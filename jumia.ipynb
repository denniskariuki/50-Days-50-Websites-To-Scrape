{
 "cells": [
  {
   "cell_type": "markdown",
   "metadata": {},
   "source": [
    "Jumia Website MensWear Scraping Personal Project"
   ]
  },
  {
   "cell_type": "code",
   "execution_count": 1,
   "metadata": {},
   "outputs": [],
   "source": [
    "import os\n",
    "import pandas as pd\n",
    "from bs4 import BeautifulSoup\n",
    "import requests\n"
   ]
  },
  {
   "cell_type": "code",
   "execution_count": 2,
   "metadata": {},
   "outputs": [
    {
     "name": "stdout",
     "output_type": "stream",
     "text": [
      "The Link https://downloadlynet.org/ is Accessible , Status = 200 OK\n"
     ]
    }
   ],
   "source": [
    "#Checking the Status of the Website\n",
    "\n",
    "def check_link(url):\n",
    "    try:\n",
    "        page = requests.get(url)\n",
    "        status_code = page.status_code\n",
    "        if status_code==200:\n",
    "            soup = BeautifulSoup(page.content, 'html.parser')\n",
    "            print(f'The Link {url} is Accessible , Status = 200 OK')\n",
    "        else:\n",
    "            print(f'The Link {url} is Not Accessible , Status = {status_code}')\n",
    "    except ConnectionError:\n",
    "        print(f'Failed To Connect to {url}')\n",
    "\n",
    "if __name__ =='__main__':\n",
    "    link_to_check ='https://www.jumia.co.ke'\n",
    "    check_link(link_to_check)"
   ]
  },
  {
   "cell_type": "code",
   "execution_count": 3,
   "metadata": {},
   "outputs": [],
   "source": [
    "#Scrape the Product Titles in the first page only\n",
    "\n",
    "url ='https://www.jumia.co.ke/mens-fashion-costumes-accessories/'\n",
    "page = requests.get(url)\n",
    "soup1 = BeautifulSoup(page.content, 'html.parser')\n",
    "def get_product_names(soup1):\n",
    "    product_name_tags=soup1.find_all ('h3',attrs={'class':'name'})\n",
    "    product_names =[]\n",
    "    for tags in product_name_tags:\n",
    "        product_names.append(tags.text)\n",
    "    return product_names"
   ]
  },
  {
   "cell_type": "code",
   "execution_count": 4,
   "metadata": {},
   "outputs": [
    {
     "data": {
      "text/plain": [
       "['Balaclava Face Mask Neck Gaiter Scarf Sun Protection',\n",
       " 'Walking Stick Height Adjustable',\n",
       " 'Blocking Bag  Auto Key Fob Pouch Faraday Cage Ignal  Case S',\n",
       " 'Breathable Ice Silk Face Mask Cool Bandana Neck Gaiter',\n",
       " 'Mens Sling Bag Chest Pack Anti Theft Travel Causal Message Black',\n",
       " 'Pirate Eye Patch',\n",
       " 'Men Sexy Plush T-Back Underwear Low- G-String Thong Royal Blue',\n",
       " 'Fashion Stylish Wooden Walking Cane Walking Stick Men Women',\n",
       " 'Aluminum Walking Stick Folding Travel Walking Stick',\n",
       " 'Mens Sexy Briefs G-String Thongs Jockstrap Underwear T-back Gold L',\n",
       " '2x Men  Suspender Djustable Elastic Shirt Leg A',\n",
       " 'Fashion Walking Sticks Wooden Stylish Walking Aid Canes',\n",
       " 'Foldable Walking Forearm Crutches Stick With Arm Cuff Elbow',\n",
       " \"Fashion 6-Pack Men's Soft Cotton Underwear Boxers - ASSORTED\",\n",
       " 'Adjustable Height Walking Stick-Aluminum',\n",
       " 'Walking Sticks Women Men Cane Fashionable Blue',\n",
       " 'Mens G String String Crotchless Panties Open Butt Thong Briefs Hollow',\n",
       " 'Walking Stick Stylish Wooden Walking Cane Men Women',\n",
       " 'King Crown For Men Decorations Royal Headwear For Theater Ancient Gold',\n",
       " '2x Men  Suspender Djustable Elastic Shirt Leg A',\n",
       " 'Breathable Ice Silk Face Mask Cool Bandana Neck Gaiter',\n",
       " 'Low  Bikini Underpants  Thong G-string White',\n",
       " 'Key  Keychain Gear  6Speed Manual Transmission',\n",
       " 'Adult Rasta Jamaican Hat  Knitted Cap Wig Dread Locks',\n",
       " 'Breathable Ice Silk Face Mask Cool Bandana Neck Gaiter',\n",
       " 'Christmas Elves Hat For Men Women Funny Xmas Holiday Style',\n",
       " 'Entry Car Key Fob Ignal  Guard  Faraday Bag Pouches S',\n",
       " 'Walking Stick Stylish Wooden Walking Cane Men Women',\n",
       " 'Walking Sticks Diamond Handle Knob Elegant Costume White',\n",
       " 'Christmas Elves Hat For Men Women Funny Xmas Holiday Style',\n",
       " 'Mens Sexy Stretchy  Pouch G-string Thong  Red',\n",
       " 'Adult Rasta Jamaican Hat  Knitted Cap Wig Dread Locks',\n",
       " '2x Men  Suspender Djustable Elastic Shirt Leg A',\n",
       " 'Replacement Pin Buckle With Swivel For Leather Belt Silver',\n",
       " 'Jua Kali Masai Fly Whisk',\n",
       " 'Christmas Elves Hat For Men Women Funny Xmas Holiday  A',\n",
       " 'Unisex Bandana Hat Durag Long Tail Headwrap Biker Chemo Head White',\n",
       " 'Walking Sticks Diamond Handle Costume Accessories Elegant Prop Purple',\n",
       " 'Fashion Walking Stick Stylish Wooden Walking Cane Men Women',\n",
       " 'Low  Bikini Underpants  Thong G-string Black']"
      ]
     },
     "execution_count": 4,
     "metadata": {},
     "output_type": "execute_result"
    }
   ],
   "source": [
    "get_product_names(soup1)"
   ]
  },
  {
   "cell_type": "code",
   "execution_count": 5,
   "metadata": {},
   "outputs": [],
   "source": [
    "#Scrape the Product Price for products in the first page\n",
    "\n",
    "def get_product_prices (soup1):\n",
    "    product_prices_tags= soup1.find_all('div', attrs={'class':'prc'})\n",
    "    product_price=[]\n",
    "    for tags in product_prices_tags:\n",
    "        product_price.append(tags.text)\n",
    "    return product_price"
   ]
  },
  {
   "cell_type": "code",
   "execution_count": 6,
   "metadata": {},
   "outputs": [
    {
     "data": {
      "text/plain": [
       "['KSh 688',\n",
       " 'KSh 975',\n",
       " 'KSh 648',\n",
       " 'KSh 688',\n",
       " 'KSh 1,461',\n",
       " 'KSh 595',\n",
       " 'KSh 221',\n",
       " 'KSh 1,299',\n",
       " 'KSh 1,390',\n",
       " 'KSh 747',\n",
       " 'KSh 986',\n",
       " 'KSh 1,199',\n",
       " 'KSh 2,600',\n",
       " 'KSh 499 - KSh 1,350',\n",
       " 'KSh 768',\n",
       " 'KSh 6,412',\n",
       " 'KSh 698',\n",
       " 'KSh 1,499',\n",
       " 'KSh 918',\n",
       " 'KSh 986',\n",
       " 'KSh 688',\n",
       " 'KSh 659',\n",
       " 'KSh 663',\n",
       " 'KSh 1,278',\n",
       " 'KSh 688',\n",
       " 'KSh 874',\n",
       " 'KSh 648',\n",
       " 'KSh 1,499',\n",
       " 'KSh 5,816',\n",
       " 'KSh 858',\n",
       " 'KSh 534',\n",
       " 'KSh 1,203',\n",
       " 'KSh 1,006',\n",
       " 'KSh 795',\n",
       " 'KSh 500',\n",
       " 'KSh 891',\n",
       " 'KSh 518',\n",
       " 'KSh 6,544',\n",
       " 'KSh 1,099',\n",
       " 'KSh 659']"
      ]
     },
     "execution_count": 6,
     "metadata": {},
     "output_type": "execute_result"
    }
   ],
   "source": [
    "get_product_prices(soup1)"
   ]
  },
  {
   "cell_type": "code",
   "execution_count": 7,
   "metadata": {},
   "outputs": [],
   "source": [
    "#Scraping Discount if there is any in the first page\n",
    "\n",
    "def get_product_discount(soup1):\n",
    "    product_disc_tags= soup1.find_all('div', attrs={'class':'bdg _dsct _sm'})\n",
    "    product_disc=[]\n",
    "    for tags in product_disc_tags:\n",
    "        if tags.text:\n",
    "            product_disc.append(tags.text)\n",
    "        else:\n",
    "            product_disc.append('No Discount')\n",
    "\n",
    "    return product_disc"
   ]
  },
  {
   "cell_type": "code",
   "execution_count": 8,
   "metadata": {},
   "outputs": [
    {
     "data": {
      "text/plain": [
       "['50%',\n",
       " '29%',\n",
       " '50%',\n",
       " '23%',\n",
       " '21%',\n",
       " '33%',\n",
       " '28%',\n",
       " '23%',\n",
       " '29%',\n",
       " '20%',\n",
       " '20%',\n",
       " '33%',\n",
       " '29%',\n",
       " '25%',\n",
       " '17%',\n",
       " '33%',\n",
       " '50%',\n",
       " '29%',\n",
       " '17%',\n",
       " '23%',\n",
       " '50%',\n",
       " '23%',\n",
       " '29%',\n",
       " '25%',\n",
       " '29%',\n",
       " '23%',\n",
       " '17%',\n",
       " '33%',\n",
       " '33%',\n",
       " '29%',\n",
       " '33%',\n",
       " '17%',\n",
       " '23%',\n",
       " '8%',\n",
       " '29%']"
      ]
     },
     "execution_count": 8,
     "metadata": {},
     "output_type": "execute_result"
    }
   ],
   "source": [
    "get_product_discount(soup1)"
   ]
  },
  {
   "cell_type": "code",
   "execution_count": 9,
   "metadata": {},
   "outputs": [],
   "source": [
    "#Scrape the Reviews of the products in first page only\n",
    "\n",
    "def get_product_reviews(soup1):\n",
    "    product_reviews_tags= soup1.find_all('div', attrs={'class':'stars _s'})\n",
    "    product_revs =[]\n",
    "    for tags in product_reviews_tags:\n",
    "        product_revs.append(tags.text)\n",
    "    return product_revs"
   ]
  },
  {
   "cell_type": "code",
   "execution_count": 10,
   "metadata": {},
   "outputs": [
    {
     "data": {
      "text/plain": [
       "['5 out of 5',\n",
       " '4.5 out of 5',\n",
       " '5 out of 5',\n",
       " '1 out of 5',\n",
       " '2 out of 5',\n",
       " '5 out of 5',\n",
       " '4.5 out of 5',\n",
       " '5 out of 5',\n",
       " '1 out of 5',\n",
       " '5 out of 5']"
      ]
     },
     "execution_count": 10,
     "metadata": {},
     "output_type": "execute_result"
    }
   ],
   "source": [
    "get_product_reviews(soup1)"
   ]
  },
  {
   "cell_type": "code",
   "execution_count": 11,
   "metadata": {},
   "outputs": [],
   "source": [
    "#Scraping the old price before the Discount for all the products in the first page:\n",
    "\n",
    "def get_old_price(soup1):\n",
    "    old_price_tags=soup1.find_all('div', attrs={'class':'old'})\n",
    "    old_price=[]\n",
    "    for tags in old_price_tags:\n",
    "        old_price.append(tags.text)\n",
    "    return old_price"
   ]
  },
  {
   "cell_type": "code",
   "execution_count": 12,
   "metadata": {},
   "outputs": [
    {
     "data": {
      "text/plain": [
       "['KSh 1,376',\n",
       " 'KSh 907',\n",
       " 'KSh 1,376',\n",
       " 'KSh 1,899',\n",
       " 'KSh 750',\n",
       " 'KSh 332',\n",
       " 'KSh 1,799',\n",
       " 'KSh 971',\n",
       " 'KSh 1,380',\n",
       " 'KSh 1,500',\n",
       " 'KSh 550 - KSh 1,600',\n",
       " 'KSh 9,618',\n",
       " 'KSh 977',\n",
       " 'KSh 2,000',\n",
       " 'KSh 1,102',\n",
       " 'KSh 1,479',\n",
       " 'KSh 1,376',\n",
       " 'KSh 923',\n",
       " 'KSh 796',\n",
       " 'KSh 1,661',\n",
       " 'KSh 1,376',\n",
       " 'KSh 1,136',\n",
       " 'KSh 907',\n",
       " 'KSh 2,000',\n",
       " 'KSh 8,142',\n",
       " 'KSh 1,115',\n",
       " 'KSh 641',\n",
       " 'KSh 1,805',\n",
       " 'KSh 1,509',\n",
       " 'KSh 1,113',\n",
       " 'KSh 1,337',\n",
       " 'KSh 622',\n",
       " 'KSh 8,507',\n",
       " 'KSh 1,200',\n",
       " 'KSh 923']"
      ]
     },
     "execution_count": 12,
     "metadata": {},
     "output_type": "execute_result"
    }
   ],
   "source": [
    "get_old_price(soup1)"
   ]
  },
  {
   "cell_type": "code",
   "execution_count": 13,
   "metadata": {},
   "outputs": [
    {
     "name": "stdout",
     "output_type": "stream",
     "text": [
      "The Link https://www.jumia.co.ke/mens-fashion-costumes-accessories/?page=2#catalog-listing is Accessible , Status = 200 OK\n",
      "Scraping https://www.jumia.co.ke/mens-fashion-costumes-accessories/?page=2#catalog-listing\n",
      "The Link https://www.jumia.co.ke/mens-fashion-costumes-accessories/?page=3#catalog-listing is Accessible , Status = 200 OK\n",
      "Scraping https://www.jumia.co.ke/mens-fashion-costumes-accessories/?page=3#catalog-listing\n",
      "The Link https://www.jumia.co.ke/mens-fashion-costumes-accessories/?page=4#catalog-listing is Accessible , Status = 200 OK\n",
      "Scraping https://www.jumia.co.ke/mens-fashion-costumes-accessories/?page=4#catalog-listing\n",
      "The Link https://www.jumia.co.ke/mens-fashion-costumes-accessories/?page=5#catalog-listing is Accessible , Status = 200 OK\n",
      "Scraping https://www.jumia.co.ke/mens-fashion-costumes-accessories/?page=5#catalog-listing\n",
      "The Link https://www.jumia.co.ke/mens-fashion-costumes-accessories/?page=6#catalog-listing is Accessible , Status = 200 OK\n",
      "Scraping https://www.jumia.co.ke/mens-fashion-costumes-accessories/?page=6#catalog-listing\n",
      "The Link https://www.jumia.co.ke/mens-fashion-costumes-accessories/?page=7#catalog-listing is Accessible , Status = 200 OK\n",
      "Scraping https://www.jumia.co.ke/mens-fashion-costumes-accessories/?page=7#catalog-listing\n",
      "The Link https://www.jumia.co.ke/mens-fashion-costumes-accessories/?page=8#catalog-listing is Accessible , Status = 200 OK\n",
      "Scraping https://www.jumia.co.ke/mens-fashion-costumes-accessories/?page=8#catalog-listing\n",
      "The Link https://www.jumia.co.ke/mens-fashion-costumes-accessories/?page=9#catalog-listing is Accessible , Status = 200 OK\n",
      "Scraping https://www.jumia.co.ke/mens-fashion-costumes-accessories/?page=9#catalog-listing\n",
      "The Link https://www.jumia.co.ke/mens-fashion-costumes-accessories/?page=10#catalog-listing is Accessible , Status = 200 OK\n",
      "Scraping https://www.jumia.co.ke/mens-fashion-costumes-accessories/?page=10#catalog-listing\n",
      "The Link https://www.jumia.co.ke/mens-fashion-costumes-accessories/?page=11#catalog-listing is Accessible , Status = 200 OK\n",
      "Scraping https://www.jumia.co.ke/mens-fashion-costumes-accessories/?page=11#catalog-listing\n",
      "The Link https://www.jumia.co.ke/mens-fashion-costumes-accessories/?page=12#catalog-listing is Accessible , Status = 200 OK\n",
      "Scraping https://www.jumia.co.ke/mens-fashion-costumes-accessories/?page=12#catalog-listing\n",
      "The Link https://www.jumia.co.ke/mens-fashion-costumes-accessories/?page=13#catalog-listing is Accessible , Status = 200 OK\n",
      "Scraping https://www.jumia.co.ke/mens-fashion-costumes-accessories/?page=13#catalog-listing\n",
      "The Link https://www.jumia.co.ke/mens-fashion-costumes-accessories/?page=14#catalog-listing is Accessible , Status = 200 OK\n",
      "Scraping https://www.jumia.co.ke/mens-fashion-costumes-accessories/?page=14#catalog-listing\n",
      "The Link https://www.jumia.co.ke/mens-fashion-costumes-accessories/?page=15#catalog-listing is Accessible , Status = 200 OK\n",
      "Scraping https://www.jumia.co.ke/mens-fashion-costumes-accessories/?page=15#catalog-listing\n",
      "The Link https://www.jumia.co.ke/mens-fashion-costumes-accessories/?page=16#catalog-listing is Accessible , Status = 200 OK\n",
      "Scraping https://www.jumia.co.ke/mens-fashion-costumes-accessories/?page=16#catalog-listing\n",
      "The Link https://www.jumia.co.ke/mens-fashion-costumes-accessories/?page=17#catalog-listing is Accessible , Status = 200 OK\n",
      "Scraping https://www.jumia.co.ke/mens-fashion-costumes-accessories/?page=17#catalog-listing\n",
      "The Link https://www.jumia.co.ke/mens-fashion-costumes-accessories/?page=18#catalog-listing is Accessible , Status = 200 OK\n",
      "Scraping https://www.jumia.co.ke/mens-fashion-costumes-accessories/?page=18#catalog-listing\n",
      "The Link https://www.jumia.co.ke/mens-fashion-costumes-accessories/?page=19#catalog-listing is Accessible , Status = 200 OK\n",
      "Scraping https://www.jumia.co.ke/mens-fashion-costumes-accessories/?page=19#catalog-listing\n",
      "The Link https://www.jumia.co.ke/mens-fashion-costumes-accessories/?page=20#catalog-listing is Accessible , Status = 200 OK\n",
      "Scraping https://www.jumia.co.ke/mens-fashion-costumes-accessories/?page=20#catalog-listing\n",
      "The Link https://www.jumia.co.ke/mens-fashion-costumes-accessories/?page=21#catalog-listing is Accessible , Status = 200 OK\n",
      "Scraping https://www.jumia.co.ke/mens-fashion-costumes-accessories/?page=21#catalog-listing\n",
      "The Link https://www.jumia.co.ke/mens-fashion-costumes-accessories/?page=22#catalog-listing is Accessible , Status = 200 OK\n",
      "Scraping https://www.jumia.co.ke/mens-fashion-costumes-accessories/?page=22#catalog-listing\n",
      "The Link https://www.jumia.co.ke/mens-fashion-costumes-accessories/?page=23#catalog-listing is Accessible , Status = 200 OK\n",
      "Scraping https://www.jumia.co.ke/mens-fashion-costumes-accessories/?page=23#catalog-listing\n",
      "The Link https://www.jumia.co.ke/mens-fashion-costumes-accessories/?page=24#catalog-listing is Accessible , Status = 200 OK\n",
      "Scraping https://www.jumia.co.ke/mens-fashion-costumes-accessories/?page=24#catalog-listing\n",
      "The Link https://www.jumia.co.ke/mens-fashion-costumes-accessories/?page=25#catalog-listing is Accessible , Status = 200 OK\n",
      "Scraping https://www.jumia.co.ke/mens-fashion-costumes-accessories/?page=25#catalog-listing\n",
      "The Link https://www.jumia.co.ke/mens-fashion-costumes-accessories/?page=26#catalog-listing is Accessible , Status = 200 OK\n",
      "Scraping https://www.jumia.co.ke/mens-fashion-costumes-accessories/?page=26#catalog-listing\n",
      "The Link https://www.jumia.co.ke/mens-fashion-costumes-accessories/?page=27#catalog-listing is Accessible , Status = 200 OK\n",
      "Scraping https://www.jumia.co.ke/mens-fashion-costumes-accessories/?page=27#catalog-listing\n",
      "The Link https://www.jumia.co.ke/mens-fashion-costumes-accessories/?page=28#catalog-listing is Accessible , Status = 200 OK\n",
      "Scraping https://www.jumia.co.ke/mens-fashion-costumes-accessories/?page=28#catalog-listing\n",
      "The Link https://www.jumia.co.ke/mens-fashion-costumes-accessories/?page=29#catalog-listing is Accessible , Status = 200 OK\n",
      "Scraping https://www.jumia.co.ke/mens-fashion-costumes-accessories/?page=29#catalog-listing\n",
      "The Link https://www.jumia.co.ke/mens-fashion-costumes-accessories/?page=30#catalog-listing is Accessible , Status = 200 OK\n",
      "Scraping https://www.jumia.co.ke/mens-fashion-costumes-accessories/?page=30#catalog-listing\n",
      "The Link https://www.jumia.co.ke/mens-fashion-costumes-accessories/?page=31#catalog-listing is Accessible , Status = 200 OK\n",
      "Scraping https://www.jumia.co.ke/mens-fashion-costumes-accessories/?page=31#catalog-listing\n",
      "The Link https://www.jumia.co.ke/mens-fashion-costumes-accessories/?page=32#catalog-listing is Accessible , Status = 200 OK\n",
      "Scraping https://www.jumia.co.ke/mens-fashion-costumes-accessories/?page=32#catalog-listing\n",
      "The Link https://www.jumia.co.ke/mens-fashion-costumes-accessories/?page=33#catalog-listing is Accessible , Status = 200 OK\n",
      "Scraping https://www.jumia.co.ke/mens-fashion-costumes-accessories/?page=33#catalog-listing\n",
      "The Link https://www.jumia.co.ke/mens-fashion-costumes-accessories/?page=34#catalog-listing is Accessible , Status = 200 OK\n",
      "Scraping https://www.jumia.co.ke/mens-fashion-costumes-accessories/?page=34#catalog-listing\n",
      "The Link https://www.jumia.co.ke/mens-fashion-costumes-accessories/?page=35#catalog-listing is Accessible , Status = 200 OK\n",
      "Scraping https://www.jumia.co.ke/mens-fashion-costumes-accessories/?page=35#catalog-listing\n",
      "The Link https://www.jumia.co.ke/mens-fashion-costumes-accessories/?page=36#catalog-listing is Accessible , Status = 200 OK\n",
      "Scraping https://www.jumia.co.ke/mens-fashion-costumes-accessories/?page=36#catalog-listing\n",
      "The Link https://www.jumia.co.ke/mens-fashion-costumes-accessories/?page=37#catalog-listing is Accessible , Status = 200 OK\n",
      "Scraping https://www.jumia.co.ke/mens-fashion-costumes-accessories/?page=37#catalog-listing\n",
      "The Link https://www.jumia.co.ke/mens-fashion-costumes-accessories/?page=38#catalog-listing is Accessible , Status = 200 OK\n",
      "Scraping https://www.jumia.co.ke/mens-fashion-costumes-accessories/?page=38#catalog-listing\n",
      "The Link https://www.jumia.co.ke/mens-fashion-costumes-accessories/?page=39#catalog-listing is Accessible , Status = 200 OK\n",
      "Scraping https://www.jumia.co.ke/mens-fashion-costumes-accessories/?page=39#catalog-listing\n",
      "The Link https://www.jumia.co.ke/mens-fashion-costumes-accessories/?page=40#catalog-listing is Accessible , Status = 200 OK\n",
      "Scraping https://www.jumia.co.ke/mens-fashion-costumes-accessories/?page=40#catalog-listing\n",
      "The Link https://www.jumia.co.ke/mens-fashion-costumes-accessories/?page=41#catalog-listing is Accessible , Status = 200 OK\n",
      "Scraping https://www.jumia.co.ke/mens-fashion-costumes-accessories/?page=41#catalog-listing\n",
      "The Link https://www.jumia.co.ke/mens-fashion-costumes-accessories/?page=42#catalog-listing is Accessible , Status = 200 OK\n",
      "Scraping https://www.jumia.co.ke/mens-fashion-costumes-accessories/?page=42#catalog-listing\n",
      "The Link https://www.jumia.co.ke/mens-fashion-costumes-accessories/?page=43#catalog-listing is Accessible , Status = 200 OK\n",
      "Scraping https://www.jumia.co.ke/mens-fashion-costumes-accessories/?page=43#catalog-listing\n",
      "The Link https://www.jumia.co.ke/mens-fashion-costumes-accessories/?page=44#catalog-listing is Accessible , Status = 200 OK\n",
      "Scraping https://www.jumia.co.ke/mens-fashion-costumes-accessories/?page=44#catalog-listing\n",
      "The Link https://www.jumia.co.ke/mens-fashion-costumes-accessories/?page=45#catalog-listing is Accessible , Status = 200 OK\n",
      "Scraping https://www.jumia.co.ke/mens-fashion-costumes-accessories/?page=45#catalog-listing\n",
      "The Link https://www.jumia.co.ke/mens-fashion-costumes-accessories/?page=46#catalog-listing is Accessible , Status = 200 OK\n",
      "Scraping https://www.jumia.co.ke/mens-fashion-costumes-accessories/?page=46#catalog-listing\n",
      "The Link https://www.jumia.co.ke/mens-fashion-costumes-accessories/?page=47#catalog-listing is Accessible , Status = 200 OK\n",
      "Scraping https://www.jumia.co.ke/mens-fashion-costumes-accessories/?page=47#catalog-listing\n",
      "The Link https://www.jumia.co.ke/mens-fashion-costumes-accessories/?page=48#catalog-listing is Accessible , Status = 200 OK\n",
      "Scraping https://www.jumia.co.ke/mens-fashion-costumes-accessories/?page=48#catalog-listing\n",
      "The Link https://www.jumia.co.ke/mens-fashion-costumes-accessories/?page=49#catalog-listing is Accessible , Status = 200 OK\n",
      "Scraping https://www.jumia.co.ke/mens-fashion-costumes-accessories/?page=49#catalog-listing\n",
      "The Link https://www.jumia.co.ke/mens-fashion-costumes-accessories/?page=50#catalog-listing is Accessible , Status = 200 OK\n",
      "Scraping https://www.jumia.co.ke/mens-fashion-costumes-accessories/?page=50#catalog-listing\n"
     ]
    }
   ],
   "source": [
    "# Iterate through all the pages for scraping:\n",
    "\n",
    "def scrape_all_pages(base_url, num_of_pages):\n",
    "    all_names=[]\n",
    "    all_prices=[]\n",
    "    #all_disc=[]\n",
    "    #all_old_prices=[]\n",
    "    #all_reviews=[]\n",
    "\n",
    "    urls =[f'{base_url}/?page={page}#catalog-listing' for page in range(2, num_of_pages + 1)]\n",
    "\n",
    "    for url in urls:\n",
    "        soup2= check_link(url)\n",
    "        print('Scraping', url)\n",
    "\n",
    "        if soup1:\n",
    "            names = get_product_names(soup1)\n",
    "            prices = get_product_prices(soup1)\n",
    "            #discount = get_product_discount(soup1)\n",
    "            #old_price = get_old_price(soup1)\n",
    "           # reviews = get_product_reviews(soup1)\n",
    "\n",
    "            all_names.extend(names)\n",
    "            all_prices.extend(prices)\n",
    "            #all_disc.extend(discount)\n",
    "            #all_old_prices.extend(old_price)\n",
    "            #all_reviews.extend(reviews)\n",
    "        else:\n",
    "             print(f'Nothing To Scrape')\n",
    "    return all_names , all_prices\n",
    "\n",
    "\n",
    "if __name__ =='__main__':\n",
    "\n",
    "    base_url ='https://www.jumia.co.ke/mens-fashion-costumes-accessories'\n",
    "    num_of_pages = 50\n",
    "\n",
    "    all_names , all_prices = scrape_all_pages(base_url, num_of_pages)\n",
    "\n",
    "    df = pd.DataFrame({'Product Name':all_names, 'Product Prices': all_prices})\n",
    "    df.to_csv('JumiaMenWear.csv' , index=False)\n",
    "    \n",
    "\n",
    "    "
   ]
  }
 ],
 "metadata": {
  "kernelspec": {
   "display_name": "base",
   "language": "python",
   "name": "python3"
  },
  "language_info": {
   "codemirror_mode": {
    "name": "ipython",
    "version": 3
   },
   "file_extension": ".py",
   "mimetype": "text/x-python",
   "name": "python",
   "nbconvert_exporter": "python",
   "pygments_lexer": "ipython3",
   "version": "3.11.5"
  }
 },
 "nbformat": 4,
 "nbformat_minor": 2
}
