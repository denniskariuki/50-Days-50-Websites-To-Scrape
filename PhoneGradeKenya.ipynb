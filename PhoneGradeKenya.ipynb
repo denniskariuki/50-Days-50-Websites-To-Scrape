{
 "cells": [
  {
   "cell_type": "markdown",
   "metadata": {},
   "source": [
    "PhoneGradeKenya WebScraping Personal Project"
   ]
  },
  {
   "cell_type": "code",
   "execution_count": 56,
   "metadata": {},
   "outputs": [],
   "source": [
    "import csv\n",
    "import os\n",
    "import pandas as pd\n",
    "import requests\n",
    "from bs4 import BeautifulSoup"
   ]
  },
  {
   "cell_type": "code",
   "execution_count": 57,
   "metadata": {},
   "outputs": [
    {
     "name": "stdout",
     "output_type": "stream",
     "text": [
      "The Link is Accessible, Status Code = 200 Ok\n"
     ]
    }
   ],
   "source": [
    "#Checking If The Link is Accessible Or Not: Checking the Status of the Webaite:\n",
    "#We Want Status Code = 200 \n",
    "\n",
    "def check_link(url):\n",
    "    try:\n",
    "        page = requests.get(url)\n",
    "        status_code = page.status_code\n",
    "        if status_code==200:\n",
    "            print(f'The Link is Accessible, Status Code = 200 Ok')\n",
    "            soup= BeautifulSoup(page.content, 'html.parser')\n",
    "        else:\n",
    "            print(f'The Link {url} is Not Accessible , Status = {status_code}')\n",
    "        \n",
    "    except ConnectionError:\n",
    "        print(f'Failed To Connect {url}')\n",
    "\n",
    "if __name__ =='__main__':\n",
    "    link_to_check ='https://www.phonegradekenya.com/'\n",
    "    check_link(link_to_check)"
   ]
  },
  {
   "cell_type": "code",
   "execution_count": 58,
   "metadata": {},
   "outputs": [],
   "source": [
    "url ='https://www.phonegradekenya.com/shop/category/cheap-refurbished-phones-in-kenya-325'\n",
    "page = requests.get(url)\n",
    "soup1= BeautifulSoup(page.content, 'html.parser')\n",
    "\n",
    "#Scraping the Product Title using Function :\n",
    "\n",
    "def get_product_title(soup1):\n",
    "    product_title_tags =soup1.find_all('a', attrs={'class':'text-primary text-decoration-none'})\n",
    "    product_title=[]\n",
    "    for tags in product_title_tags:\n",
    "        product_title.append(tags.text. strip())\n",
    "    return product_title"
   ]
  },
  {
   "cell_type": "code",
   "execution_count": 59,
   "metadata": {},
   "outputs": [
    {
     "data": {
      "text/plain": [
       "['Refurbished iPhone 14 Pro Max 128GB',\n",
       " 'Refurbished iPhone 14 Pro Max 256GB',\n",
       " 'Refurbished iPhone XS Max',\n",
       " 'Refurbished iPhone XS Max 64GB',\n",
       " 'Refurbished iPhone XS Max 256GB',\n",
       " 'Refurbished iPhone XS Max 512GB',\n",
       " 'Refurbished iPhone X',\n",
       " '\\u200bRefurbished Samsung Galaxy S22 Ultra 5G 256GB',\n",
       " 'Refurbished Samsung Galaxy S22 Ultra 5G 128GB',\n",
       " 'Refurbished Samsung Galaxy S20 Ultra 5G 512GB',\n",
       " 'Refurbished Samsung Galaxy S20 Ultra 5G 128GB',\n",
       " 'Refurbished Samsung Galaxy S20 Ultra 5G',\n",
       " 'Refurbished Samsung Galaxy S20 Ultra 512GB',\n",
       " 'Refurbished Samsung Galaxy S20 Ultra',\n",
       " 'Refurbished Samsung Galaxy S20 Plus 5G',\n",
       " 'Refurbished Samsung Galaxy S20 Plus',\n",
       " 'Refurbished Samsung Galaxy S20 FE 5G 256GB',\n",
       " 'Refurbished Samsung Galaxy S20 FE 5G 128GB',\n",
       " 'Refurbished Samsung Galaxy S20 FE 5G',\n",
       " 'Refurbished Samsung Galaxy S20 FE 256GB']"
      ]
     },
     "execution_count": 59,
     "metadata": {},
     "output_type": "execute_result"
    }
   ],
   "source": [
    "get_product_title(soup1)"
   ]
  },
  {
   "cell_type": "code",
   "execution_count": 60,
   "metadata": {},
   "outputs": [],
   "source": [
    "#Scraping the Price:\n",
    "\n",
    "def get_product_price (soup1):\n",
    "    product_price_tags=soup1.find_all('span', attrs={'class':'h5'})\n",
    "    product_price=[]\n",
    "    for tags in product_price_tags:\n",
    "        clean_tags = tags.text.replace(\"\\xa0\", \"\").strip()\n",
    "        product_price.append(clean_tags)\n",
    "    return product_price"
   ]
  },
  {
   "cell_type": "code",
   "execution_count": 61,
   "metadata": {},
   "outputs": [
    {
     "data": {
      "text/plain": [
       "['177,999.00KSh',\n",
       " '191,999.00KSh',\n",
       " '49,500.00KSh',\n",
       " '44,500.00KSh',\n",
       " '49,500.00KSh',\n",
       " '53,500.00KSh',\n",
       " '37,999.00KSh',\n",
       " '119,999.00KSh',\n",
       " '113,999.00KSh',\n",
       " '64,999.00KSh',\n",
       " '58,999.00KSh',\n",
       " '58,999.00KSh',\n",
       " '64,999.00KSh',\n",
       " '58,999.00KSh',\n",
       " '56,999.00KSh',\n",
       " '56,999.00KSh',\n",
       " '45,999.00KSh',\n",
       " '41,999.00KSh',\n",
       " '41,999.00KSh',\n",
       " '45,999.00KSh']"
      ]
     },
     "execution_count": 61,
     "metadata": {},
     "output_type": "execute_result"
    }
   ],
   "source": [
    "get_product_price(soup1)"
   ]
  },
  {
   "cell_type": "code",
   "execution_count": 62,
   "metadata": {},
   "outputs": [],
   "source": [
    "#Scraping Product Description Specifications:\n",
    "\n",
    "def get_product_specs(soup1):\n",
    "    product_specs_tags =soup1.find_all('div', attrs={'class':'oe_subdescription'})\n",
    "    product_specs =[]\n",
    "    for tags in product_specs_tags:\n",
    "        product_specs.append(tags.text)\n",
    "    return product_specs"
   ]
  },
  {
   "cell_type": "code",
   "execution_count": 63,
   "metadata": {},
   "outputs": [
    {
     "data": {
      "text/plain": [
       "['\\nCondition: Refurbished\\nWarranty: 1 Year\\nScreen: 6.7 Inches, 1290 x 2796 Pixels\\nStorage: 128GB\\nRAM: 6GB\\nBattery: Li-Ion non-removable\\n',\n",
       " '\\nWarranty: 1Year\\nCondition: Refurbished\\nScreen: 6.7 Inches, 1290 x 2796 Pixels\\nStorage: 256GB\\nRAM: 6GB\\nBattery: Li-Ion non-removable\\n',\n",
       " '\\nCondition: Refurbished / Used / Pre Owned / Ex UK\\nStorage: 512GB or 256GB or 64GB\\nRAM: 4GB\\nCPU: Hexa-core\\nOS: iOS 12 \\n',\n",
       " '\\nCondition: Refurbished / Used / Pre Owned / Ex UK\\nStorage: 64GB\\nRAM: 4GB\\nCPU: Hexa-core\\nOS: iOS 12 \\n',\n",
       " '\\nCondition: Refurbished / Used / Pre Owned / Ex UK\\nStorage: 256GB\\nRAM: 4GB\\nCPU: Hexa-core\\nOS: iOS 12 \\n',\n",
       " '\\nCondition: Refurbished / Used / Pre Owned / Ex UK\\nStorage: 512GB\\nRAM: 4GB\\nCPU: Hexa-core\\nOS: iOS 12 \\n',\n",
       " '\\nCondition : Refurbished\\nScreen:  6.1\", 828 x 1792 pixels \\nStorage: 64GB/256GB\\nRAM: 3GB\\nBattery: 2942 mAh\\n',\n",
       " '\\nScreen: 6.8 Inches, 1440 x 3080 Pixels\\nStorage: 256GB\\nRAM: 12GB\\nBattery: 5000mAh, Li-Po\\n',\n",
       " '\\nScreen: 6.8 Inches, 1440 x 3080 Pixels\\nStorage: 128GB\\nRAM: 12GB\\nBattery: 5000mAh, Li-Po\\n',\n",
       " '\\nScreen: 6.9\", 1440 x 3200 pixels\\nRAM: 16GB\\nStorage: 512GB\\nBattery: 5000mAh, Li-Po \\n',\n",
       " '\\nScreen: 6.9\", 1440 x 3200 pixels\\nRAM: 12GB\\nStorage: 128GB\\nBattery: 5000mAh, Li-Po \\n',\n",
       " '\\nScreen: 6.9\", 1440 x 3200 pixels\\nRAM: 12GB\\nStorage: 256GB\\nBattery: 5000mAh, Li-Po \\n',\n",
       " '\\nScreen: 6.9\", 1440 x 3200 pixels\\nRAM: 16GB\\nStorage: 512GB\\nBattery: 5000mAh, Li-Po \\n',\n",
       " '\\nScreen: 6.9\", 1440 x 3200 pixels\\nRAM: 12GB\\nStorage: 128GB\\nBattery: 5000mAh, Li-Po \\n',\n",
       " '\\nScreen: 6.7\", 1440 x 3200 pixels\\nRAM: 12GB\\nStorage: 128GB\\nBattery: 4500mAh, Li-Po \\n',\n",
       " '\\nScreen: 6.7\", 1440 x 3040 pixels\\nRAM: 8GB\\nStorage: 128GB\\nBattery: 4500mAh, Li-Po \\n',\n",
       " '\\nScreen: Screen: 6.5 in, 1080 x 2400 pixels\\nStorage: 256GB\\nRAM: 8GB\\nBattery: 4500mAh, Li-Po\\n',\n",
       " '\\nScreen: Screen: 6.5 in, 1080 x 2400 pixels\\nStorage: 128GB\\nRAM: 8GB\\nBattery: 4500mAh, Li-Po\\n',\n",
       " '\\nScreen: Screen: 6.5 in, 1080 x 2400 pixels\\nStorage: 128GB\\nRAM: 6GB\\nBattery: 4500mAh, Li-Po\\n',\n",
       " '\\nScreen: Screen: 6.5 in, 1080 x 2400 pixels\\nStorage: 256GB\\nRAM: 8GB\\nBattery: 4500mAh, Li-Po\\n']"
      ]
     },
     "execution_count": 63,
     "metadata": {},
     "output_type": "execute_result"
    }
   ],
   "source": [
    "get_product_specs(soup1)"
   ]
  },
  {
   "cell_type": "code",
   "execution_count": 66,
   "metadata": {},
   "outputs": [
    {
     "name": "stdout",
     "output_type": "stream",
     "text": [
      "The Link is Accessible, Status Code = 200 Ok\n",
      "The Link is Accessible, Status Code = 200 Ok\n",
      "Scraping Page https://www.phonegradekenya.com/shop/category/cheap-refurbished-phones-in-kenya-325/page/1\n",
      "The Link is Accessible, Status Code = 200 Ok\n",
      "Scraping Page https://www.phonegradekenya.com/shop/category/cheap-refurbished-phones-in-kenya-325/page/2\n",
      "The Link is Accessible, Status Code = 200 Ok\n",
      "Scraping Page https://www.phonegradekenya.com/shop/category/cheap-refurbished-phones-in-kenya-325/page/3\n",
      "The Link is Accessible, Status Code = 200 Ok\n",
      "Scraping Page https://www.phonegradekenya.com/shop/category/cheap-refurbished-phones-in-kenya-325/page/4\n",
      "The Link is Accessible, Status Code = 200 Ok\n",
      "Scraping Page https://www.phonegradekenya.com/shop/category/cheap-refurbished-phones-in-kenya-325/page/5\n",
      "The Link is Accessible, Status Code = 200 Ok\n",
      "Scraping Page https://www.phonegradekenya.com/shop/category/cheap-refurbished-phones-in-kenya-325/page/6\n",
      "The Link is Accessible, Status Code = 200 Ok\n",
      "Scraping Page https://www.phonegradekenya.com/shop/category/cheap-refurbished-phones-in-kenya-325/page/7\n",
      "The Link is Accessible, Status Code = 200 Ok\n",
      "Scraping Page https://www.phonegradekenya.com/shop/category/cheap-refurbished-phones-in-kenya-325/page/8\n",
      "The Link is Accessible, Status Code = 200 Ok\n",
      "Scraping Page https://www.phonegradekenya.com/shop/category/cheap-refurbished-phones-in-kenya-325/page/9\n",
      "The Link is Accessible, Status Code = 200 Ok\n",
      "Scraping Page https://www.phonegradekenya.com/shop/category/cheap-refurbished-phones-in-kenya-325/page/10\n",
      "The Link is Accessible, Status Code = 200 Ok\n",
      "Scraping Page https://www.phonegradekenya.com/shop/category/cheap-refurbished-phones-in-kenya-325/page/11\n"
     ]
    }
   ],
   "source": [
    "#Iterate through all the 11 pages and scrape all the scraped data in the function \n",
    "\n",
    "def scrape_all_pages(base_url, num_of_pages):\n",
    "    all_products=[]\n",
    "    all_prices=[]\n",
    "    all_specs=[]\n",
    "\n",
    "    \n",
    "    urls = [f'{base_url}/shop/category/cheap-refurbished-phones-in-kenya-325/page/{page}' for page in range (1,num_of_pages + 1)]\n",
    "    for url in urls:\n",
    "        soup2 =check_link(url)\n",
    "        print('Scraping Page',url)\n",
    "\n",
    "        if soup1:\n",
    "            \n",
    "            products = get_product_title(soup1)\n",
    "            specs = get_product_specs(soup1)\n",
    "            prices =get_product_price(soup1)\n",
    "            all_products.extend(products)\n",
    "            all_specs.extend(specs)\n",
    "            all_prices.extend(prices)\n",
    "\n",
    "\n",
    "\n",
    "            all_products.extend(products)\n",
    "            all_prices.extend(prices)\n",
    "            all_specs.extend(specs)\n",
    "        else:\n",
    "            print(f'Nothing To Scrape')\n",
    "    return all_products, all_prices, all_specs\n",
    "\n",
    "\n",
    "if __name__ =='__main__':\n",
    "    \n",
    "\n",
    "    link_to_check ='https://www.phonegradekenya.com'\n",
    "    check_link(link_to_check)\n",
    "\n",
    "\n",
    "    base_url ='https://www.phonegradekenya.com'\n",
    "    num_of_pages = 11\n",
    "    \n",
    "    all_products, all_prices , all_specs =scrape_all_pages(base_url , num_of_pages)\n",
    "    df = pd.DataFrame({'Product Title': all_products , 'Product Price':all_prices, 'Product Specifications':all_specs})\n",
    "    df.to_csv('phonegradekenya12.csv', index=False)"
   ]
  },
  {
   "cell_type": "code",
   "execution_count": null,
   "metadata": {},
   "outputs": [],
   "source": []
  }
 ],
 "metadata": {
  "kernelspec": {
   "display_name": "base",
   "language": "python",
   "name": "python3"
  },
  "language_info": {
   "codemirror_mode": {
    "name": "ipython",
    "version": 3
   },
   "file_extension": ".py",
   "mimetype": "text/x-python",
   "name": "python",
   "nbconvert_exporter": "python",
   "pygments_lexer": "ipython3",
   "version": "3.11.5"
  }
 },
 "nbformat": 4,
 "nbformat_minor": 2
}
