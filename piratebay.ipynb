{
 "cells": [
  {
   "cell_type": "markdown",
   "metadata": {},
   "source": [
    "IMDB Scraper"
   ]
  },
  {
   "cell_type": "code",
   "execution_count": 1,
   "metadata": {},
   "outputs": [
    {
     "name": "stdout",
     "output_type": "stream",
     "text": [
      "The Link https://thepiratebay3.co/recent is accessible and the status Code is 200\n"
     ]
    }
   ],
   "source": [
    "import csv\n",
    "from bs4 import BeautifulSoup\n",
    "import requests\n",
    "import os\n",
    "\n",
    "\n",
    "\n",
    "\n",
    "def check_url_status(url):\n",
    "    try:\n",
    "        page = requests.get(url)\n",
    "        status_code = page.status_code\n",
    "        if status_code==200:\n",
    "            print(f'The Link {url} is accessible and the status Code is {status_code}')\n",
    "        \n",
    "            soup = BeautifulSoup(page.content, 'html.parser')\n",
    "        else:\n",
    "            print(f'The link {url} not accessibe and the status Code is {status_code}')\n",
    "    except ConnectionError:\n",
    "        print(f'Failled Connection to the {url}')\n",
    "\n",
    "\n",
    "if __name__ =='__main__':\n",
    "    link='https://thepiratebay3.co/recent'\n",
    "    check_url_status(link)\n"
   ]
  },
  {
   "cell_type": "code",
   "execution_count": 2,
   "metadata": {},
   "outputs": [],
   "source": [
    "#Scrape The Most Recent Torrent Title\n",
    "\n",
    "url ='https://thepiratebay3.co/recent'\n",
    "page = requests.get(url)\n",
    "soup1 = BeautifulSoup(page.content, 'html.parser')\n",
    "\n",
    "\n",
    "def get_torrent_title(url):\n",
    "    torrent_title_tags = soup1.find_all('a',attrs={'class':'detLink'})\n",
    "    torrent_title=[]\n",
    "    for tags in torrent_title_tags:\n",
    "        torrent_title(tags.text)\n",
    "    return torrent_title"
   ]
  },
  {
   "cell_type": "code",
   "execution_count": 3,
   "metadata": {},
   "outputs": [
    {
     "data": {
      "text/plain": [
       "[]"
      ]
     },
     "execution_count": 3,
     "metadata": {},
     "output_type": "execute_result"
    }
   ],
   "source": [
    "get_torrent_title(url)"
   ]
  },
  {
   "cell_type": "code",
   "execution_count": null,
   "metadata": {},
   "outputs": [],
   "source": []
  }
 ],
 "metadata": {
  "kernelspec": {
   "display_name": "base",
   "language": "python",
   "name": "python3"
  },
  "language_info": {
   "codemirror_mode": {
    "name": "ipython",
    "version": 3
   },
   "file_extension": ".py",
   "mimetype": "text/x-python",
   "name": "python",
   "nbconvert_exporter": "python",
   "pygments_lexer": "ipython3",
   "version": "3.11.5"
  }
 },
 "nbformat": 4,
 "nbformat_minor": 2
}
